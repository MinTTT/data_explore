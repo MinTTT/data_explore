{
 "cells": [
  {
   "cell_type": "code",
   "execution_count": 1,
   "metadata": {},
   "outputs": [
    {
     "ename": "ModuleNotFoundError",
     "evalue": "No module named 'sciplot'",
     "output_type": "error",
     "traceback": [
      "\u001b[1;31m---------------------------------------------------------------------------\u001b[0m",
      "\u001b[1;31mModuleNotFoundError\u001b[0m                       Traceback (most recent call last)",
      "\u001b[1;32m<ipython-input-1-dbe388539665>\u001b[0m in \u001b[0;36m<module>\u001b[1;34m\u001b[0m\n\u001b[0;32m      2\u001b[0m \u001b[0msys\u001b[0m\u001b[1;33m.\u001b[0m\u001b[0mpath\u001b[0m\u001b[1;33m.\u001b[0m\u001b[0mappend\u001b[0m\u001b[1;33m(\u001b[0m\u001b[1;34mr'./20200327'\u001b[0m\u001b[1;33m)\u001b[0m\u001b[1;33m\u001b[0m\u001b[1;33m\u001b[0m\u001b[0m\n\u001b[0;32m      3\u001b[0m \u001b[1;32mimport\u001b[0m \u001b[0mnumpy\u001b[0m \u001b[1;32mas\u001b[0m \u001b[0mnp\u001b[0m\u001b[1;33m\u001b[0m\u001b[1;33m\u001b[0m\u001b[0m\n\u001b[1;32m----> 4\u001b[1;33m \u001b[1;32mimport\u001b[0m \u001b[0mutils\u001b[0m\u001b[1;33m\u001b[0m\u001b[1;33m\u001b[0m\u001b[0m\n\u001b[0m\u001b[0;32m      5\u001b[0m \u001b[1;32mimport\u001b[0m \u001b[0mipywidgets\u001b[0m \u001b[1;32mas\u001b[0m \u001b[0mwidgets\u001b[0m\u001b[1;33m\u001b[0m\u001b[1;33m\u001b[0m\u001b[0m\n\u001b[0;32m      6\u001b[0m \u001b[1;32mimport\u001b[0m \u001b[0mplotly\u001b[0m\u001b[1;33m.\u001b[0m\u001b[0mgraph_objects\u001b[0m \u001b[1;32mas\u001b[0m \u001b[0mgo\u001b[0m\u001b[1;33m\u001b[0m\u001b[1;33m\u001b[0m\u001b[0m\n",
      "\u001b[1;32mD:\\python_code\\data_explore\\20200327\\utils.py\u001b[0m in \u001b[0;36m<module>\u001b[1;34m\u001b[0m\n\u001b[0;32m      6\u001b[0m \u001b[1;32mfrom\u001b[0m \u001b[0mtqdm\u001b[0m \u001b[1;32mimport\u001b[0m \u001b[0mtqdm\u001b[0m\u001b[1;33m\u001b[0m\u001b[1;33m\u001b[0m\u001b[0m\n\u001b[0;32m      7\u001b[0m \u001b[1;32mimport\u001b[0m \u001b[0mseaborn\u001b[0m \u001b[1;32mas\u001b[0m \u001b[0msns\u001b[0m\u001b[1;33m\u001b[0m\u001b[1;33m\u001b[0m\u001b[0m\n\u001b[1;32m----> 8\u001b[1;33m \u001b[1;32mimport\u001b[0m \u001b[0msciplot\u001b[0m \u001b[1;32mas\u001b[0m \u001b[0msplt\u001b[0m\u001b[1;33m\u001b[0m\u001b[1;33m\u001b[0m\u001b[0m\n\u001b[0m\u001b[0;32m      9\u001b[0m \u001b[1;32mimport\u001b[0m \u001b[0mpandas\u001b[0m \u001b[1;32mas\u001b[0m \u001b[0mpd\u001b[0m\u001b[1;33m\u001b[0m\u001b[1;33m\u001b[0m\u001b[0m\n\u001b[0;32m     10\u001b[0m \u001b[1;32mfrom\u001b[0m \u001b[0mscipy\u001b[0m\u001b[1;33m.\u001b[0m\u001b[0mintegrate\u001b[0m \u001b[1;32mimport\u001b[0m \u001b[0modeint\u001b[0m\u001b[1;33m\u001b[0m\u001b[1;33m\u001b[0m\u001b[0m\n",
      "\u001b[1;31mModuleNotFoundError\u001b[0m: No module named 'sciplot'"
     ]
    }
   ],
   "source": [
    "import sys\n",
    "sys.path.append(r'./20200327')\n",
    "import numpy as np\n",
    "import utils\n",
    "import ipywidgets as widgets\n",
    "import plotly.graph_objects as go\n",
    "from plotly.subplots import make_subplots\n",
    "import population_dyn as popd\n",
    "import pandas as pd\n",
    "# from IPython.display import display"
   ]
  },
  {
   "cell_type": "code",
   "execution_count": null,
   "metadata": {
    "pycharm": {
     "name": "#%% a population level api\n"
    }
   },
   "outputs": [],
   "source": [
    "def update_trace(a, b, c):\n",
    "    delt_lam = a\n",
    "    k = b\n",
    "    phi_0 = c\n",
    "    y = popd.ratio_pop((delt_lam, k, phi_0), t)\n",
    "    fig_pop.data[0].y = y\n",
    "    fig_pop.layout.barmode = 'overlay'\n",
    "    \n",
    "    \n",
    "def update_expdata(a):\n",
    "    select = a\n",
    "    get_datatag = ['#%d-1' % select, '#%d-2' % select]\n",
    "    fig_pop.data[1].x = data.loc[data['Sample']==get_datatag[0], :]['Time']\n",
    "    fig_pop.data[1].y = data.loc[data['Sample']==get_datatag[0], :]['mCherry_ratio']\n",
    "    fig_pop.data[2].x = data.loc[data['Sample']==get_datatag[1], :]['Time']\n",
    "    fig_pop.data[2].y = data.loc[data['Sample']==get_datatag[1], :]['mCherry_ratio']\n",
    "\n",
    "def output_pars(a, b, c):\n",
    "    display(r'k: %.4f, $\\Delta \\lambda$: $%.4f, $\\phi_A$: %.4f' % (a, b, c))\n",
    "\n",
    "# slid1 for k\n",
    "def updat_sld_k(*args):\n",
    "    sld_k.max = text_k.value\n",
    "    sld_k.min = - text_k.value\n",
    "\n",
    "sld_k = widgets.FloatSlider(value=0.001, min=-0.1, max=0.1, step=0.00002, \n",
    "                           description='k')\n",
    "text_k = widgets.FloatText(value=0.1)\n",
    "c_1 = widgets.HBox([sld_k, text_k])\n",
    "text_k.observe(updat_sld_k, 'value')\n",
    "# slid2 for delta_l\n",
    "def updat_sld_delta_l(*args):\n",
    "    sld_delta_l.max = text_delta_l.value\n",
    "    sld_delta_l.min =  - text_delta_l.value\n",
    "\n",
    "sld_delta_l = widgets.FloatSlider(value=0.003, min=-0.1, max=0.1, step=0.00002, \n",
    "                           description='$\\Delta \\lambda$')\n",
    "text_delta_l = widgets.FloatText(value=0.1)\n",
    "c_2 = widgets.HBox([sld_delta_l, text_delta_l])\n",
    "text_delta_l.observe(updat_sld_delta_l, 'value')\n",
    "# slid for phi\n",
    "sld_phi = widgets.FloatSlider(value=0.5, min=0, max=1, step=0.001, \n",
    "                           description='$\\phi_A$')\n",
    "\n",
    "\n",
    "# trace for phi\n",
    "\n",
    "t = np.linspace(0, 50, num=100)\n",
    "trace_ratio = go.Scatter(x=t, y=popd.ratio_pop((sld_delta_l.value, sld_k.value, sld_phi.value), t),\n",
    "                         name = 'ratio_simulation', line=dict(color='royalblue', width=4))\n",
    "fig_pop = go.FigureWidget(data=[trace_ratio],  layout=go.Layout(title={'text':'Population level'}, barmode='overlay'))\n",
    "fig_pop.update_yaxes(range=[0, 1.])\n",
    "updates = widgets.interactive(update_trace, a=sld_delta_l, b=sld_k, c=sld_phi)\n",
    "\n",
    "# select data\n",
    "\n",
    "data = pd.read_csv(r'./20200327/20200327_ratio_sum_from_JWZ.csv')\n",
    "data_options = [i+1 for i in range(5)]\n",
    "conc_list = ['0.24', '0.12', '0.9', '0.06', '0.00']\n",
    "selections = [(conc_list[selc-1], selc) for selc in data_options]\n",
    "drop_data = widgets.Dropdown(options = selections,\n",
    "                             value=1, \n",
    "                             description='aTc conc.')\n",
    "\n",
    "select = 1\n",
    "get_datatag = ['#%d-1' % select, '#%d-2' % select]\n",
    "trace_data1 = go.Scatter(x=data.loc[data['Sample']==get_datatag[0], :]['Time'], \n",
    "                         y=data.loc[data['Sample']==get_datatag[0], :]['mCherry_ratio'],\n",
    "                         mode='markers', name='exp1')\n",
    "trace_data2 = go.Scatter(x=data.loc[data['Sample']==get_datatag[1], :]['Time'], \n",
    "                         y=data.loc[data['Sample']==get_datatag[1], :]['mCherry_ratio'],\n",
    "                         mode='markers', name='exp2')\n",
    "fig_pop.add_trace(trace_data1)\n",
    "fig_pop.add_trace(trace_data2)\n",
    "\n",
    "inter_expdata = widgets.interactive(update_expdata, a=drop_data)\n",
    "# output parameters\n",
    "outs = widgets.interactive_output(output_pars, {'a':sld_k, 'b':sld_delta_l, 'c':sld_phi})\n",
    "\n",
    "\n",
    "# c4 for all sliders\n",
    "c4 = widgets.VBox([c_1, c_2, sld_phi, drop_data, outs])\n",
    "\n",
    "c5 = widgets.VBox([c4, fig_pop])\n",
    "display(c5)\n",
    "\n"
   ]
  },
  {
   "cell_type": "code",
   "execution_count": 2,
   "metadata": {},
   "outputs": [
    {
     "data": {
      "text/plain": [
       "['D:\\\\python_code\\\\data_explore\\\\20200327',\n",
       " 'C:\\\\Users\\\\pan_c\\\\Anaconda3\\\\python37.zip',\n",
       " 'C:\\\\Users\\\\pan_c\\\\Anaconda3\\\\DLLs',\n",
       " 'C:\\\\Users\\\\pan_c\\\\Anaconda3\\\\lib',\n",
       " 'C:\\\\Users\\\\pan_c\\\\Anaconda3',\n",
       " '',\n",
       " 'C:\\\\Users\\\\pan_c\\\\Anaconda3\\\\lib\\\\site-packages',\n",
       " 'C:\\\\Users\\\\pan_c\\\\Anaconda3\\\\lib\\\\site-packages\\\\win32',\n",
       " 'C:\\\\Users\\\\pan_c\\\\Anaconda3\\\\lib\\\\site-packages\\\\win32\\\\lib',\n",
       " 'C:\\\\Users\\\\pan_c\\\\Anaconda3\\\\lib\\\\site-packages\\\\Pythonwin',\n",
       " 'C:\\\\Users\\\\pan_c\\\\Anaconda3\\\\lib\\\\site-packages\\\\IPython\\\\extensions',\n",
       " 'C:\\\\Users\\\\pan_c\\\\.ipython',\n",
       " './20200327']"
      ]
     },
     "execution_count": 2,
     "metadata": {},
     "output_type": "execute_result"
    }
   ],
   "source": [
    "sys.path\n",
    "sys"
   ]
  }
 ],
 "metadata": {
  "kernelspec": {
   "display_name": "Python 3",
   "language": "python",
   "name": "python3"
  },
  "language_info": {
   "codemirror_mode": {
    "name": "ipython",
    "version": 3
   },
   "file_extension": ".py",
   "mimetype": "text/x-python",
   "name": "python",
   "nbconvert_exporter": "python",
   "pygments_lexer": "ipython3",
   "version": "3.7.3"
  },
  "pycharm": {
   "stem_cell": {
    "cell_type": "raw",
    "metadata": {
     "collapsed": false
    },
    "source": []
   }
  }
 },
 "nbformat": 4,
 "nbformat_minor": 1
}
