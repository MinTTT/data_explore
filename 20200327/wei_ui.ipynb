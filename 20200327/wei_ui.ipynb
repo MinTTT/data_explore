{
 "cells": [
  {
   "cell_type": "code",
   "execution_count": 15,
   "metadata": {},
   "outputs": [],
   "source": [
    "import sys\n",
    "sys.path.append(r'./20200327')\n",
    "sys.path.append(r'D:\\\\python_code\\\\data_explore')\n",
    "import numpy as np\n",
    "import utils\n",
    "import ipywidgets as widgets\n",
    "import plotly.graph_objects as go\n",
    "from plotly.subplots import make_subplots\n",
    "import population_dyn as popd\n",
    "import pandas as pd\n",
    "import matplotlib.pyplot as plt\n",
    "import seaborn as sns\n",
    "# from IPython.display import display"
   ]
  },
  {
   "cell_type": "code",
   "execution_count": 30,
   "metadata": {
    "pycharm": {
     "name": "#%% a population level api\n"
    }
   },
   "outputs": [
    {
     "data": {
      "application/vnd.jupyter.widget-view+json": {
       "model_id": "9483fd27fa8247f6842ea22b5503e8e7",
       "version_major": 2,
       "version_minor": 0
      },
      "text/plain": [
       "VBox(children=(VBox(children=(HBox(children=(FloatSlider(value=0.001, description='k', max=0.1, min=-0.1, step…"
      ]
     },
     "metadata": {},
     "output_type": "display_data"
    }
   ],
   "source": [
    "def update_trace(a, b, c):\n",
    "    delt_lam = a\n",
    "    k = b\n",
    "    phi_0 = c\n",
    "    y = popd.ratio_pop((delt_lam, k, phi_0), t)\n",
    "    fig_pop.data[0].y = y\n",
    "    fig_pop.layout.barmode = 'overlay'\n",
    "    \n",
    "    \n",
    "def update_expdata(a):\n",
    "    select = a\n",
    "    get_datatag = ['#%d-1' % select, '#%d-2' % select]\n",
    "    fig_pop.data[1].x = data.loc[data['Sample']==get_datatag[0], :]['Time']\n",
    "    fig_pop.data[1].y = data.loc[data['Sample']==get_datatag[0], :]['mCherry_ratio']\n",
    "    fig_pop.data[2].x = data.loc[data['Sample']==get_datatag[1], :]['Time']\n",
    "    fig_pop.data[2].y = data.loc[data['Sample']==get_datatag[1], :]['mCherry_ratio']\n",
    "\n",
    "def output_pars(a, b, c):\n",
    "    display(r'k: %.4f, $\\Delta \\lambda$: $%.4f, $\\phi_A$: %.4f' % (a, b, c))\n",
    "\n",
    "# slid1 for k\n",
    "def updat_sld_k(*args):\n",
    "    sld_k.max = text_k.value\n",
    "    sld_k.min = - text_k.value\n",
    "\n",
    "sld_k = widgets.FloatSlider(value=0.001, min=-0.1, max=0.1, step=0.00002, \n",
    "                           description='k')\n",
    "text_k = widgets.FloatText(value=0.1)\n",
    "c_1 = widgets.HBox([sld_k, text_k])\n",
    "text_k.observe(updat_sld_k, 'value')\n",
    "# slid2 for delta_l\n",
    "def updat_sld_delta_l(*args):\n",
    "    sld_delta_l.max = text_delta_l.value\n",
    "    sld_delta_l.min =  - text_delta_l.value\n",
    "\n",
    "sld_delta_l = widgets.FloatSlider(value=0.003, min=-0.1, max=0.1, step=0.00002, \n",
    "                           description='$\\Delta \\lambda$')\n",
    "text_delta_l = widgets.FloatText(value=0.1)\n",
    "c_2 = widgets.HBox([sld_delta_l, text_delta_l])\n",
    "text_delta_l.observe(updat_sld_delta_l, 'value')\n",
    "# slid for phi\n",
    "sld_phi = widgets.FloatSlider(value=0.5, min=0, max=1, step=0.001, \n",
    "                           description='$\\phi_A$')\n",
    "\n",
    "\n",
    "# trace for phi\n",
    "\n",
    "t = np.linspace(0, 50, num=100)\n",
    "trace_ratio = go.Scatter(x=t, y=popd.ratio_pop((sld_delta_l.value, sld_k.value, sld_phi.value), t),\n",
    "                         name = 'ratio_simulation', line=dict(color='royalblue', width=4))\n",
    "fig_pop = go.FigureWidget(data=[trace_ratio],  layout=go.Layout(title={'text':'Population level'}, barmode='overlay'))\n",
    "fig_pop.update_yaxes(range=[0, 1.])\n",
    "updates = widgets.interactive(update_trace, a=sld_delta_l, b=sld_k, c=sld_phi)\n",
    "\n",
    "# select data\n",
    "\n",
    "data = pd.read_csv(r'./20200327_ratio_sum.csv')\n",
    "shift = 6\n",
    "data = data.loc[data['Time']>= shift]\n",
    "data['Time'] = data['Time'] - shift\n",
    "data_options = [i+1 for i in range(5)]\n",
    "conc_list = ['0.24', '0.12', '0.9', '0.06', '0.00']\n",
    "selections = [(conc_list[selc-1], selc) for selc in data_options]\n",
    "drop_data = widgets.Dropdown(options = selections,\n",
    "                             value=1, \n",
    "                             description='aTc conc.')\n",
    "\n",
    "select = 1\n",
    "get_datatag = ['#%d-1' % select, '#%d-2' % select]\n",
    "trace_data1 = go.Scatter(x=data.loc[data['Sample']==get_datatag[0], :]['Time'], \n",
    "                         y=data.loc[data['Sample']==get_datatag[0], :]['mCherry_ratio'],\n",
    "                         mode='markers', name='exp1')\n",
    "trace_data2 = go.Scatter(x=data.loc[data['Sample']==get_datatag[1], :]['Time'], \n",
    "                         y=data.loc[data['Sample']==get_datatag[1], :]['mCherry_ratio'],\n",
    "                         mode='markers', name='exp2')\n",
    "fig_pop.add_trace(trace_data1)\n",
    "fig_pop.add_trace(trace_data2)\n",
    "\n",
    "inter_expdata = widgets.interactive(update_expdata, a=drop_data)\n",
    "# output parameters\n",
    "outs = widgets.interactive_output(output_pars, {'a':sld_k, 'b':sld_delta_l, 'c':sld_phi})\n",
    "\n",
    "\n",
    "# c4 for all sliders\n",
    "c4 = widgets.VBox([c_1, c_2, sld_phi, drop_data, outs])\n",
    "\n",
    "c5 = widgets.VBox([c4, fig_pop])\n",
    "display(c5)\n",
    "\n"
   ]
  },
  {
   "cell_type": "code",
   "execution_count": 2,
   "metadata": {
    "pycharm": {
     "is_executing": false
    }
   },
   "outputs": [
    {
     "traceback": [
      "\u001b[1;31m---------------------------------------------------------------------------\u001b[0m",
      "\u001b[1;31mNameError\u001b[0m                                 Traceback (most recent call last)",
      "\u001b[1;32m<ipython-input-2-8fadf409d225>\u001b[0m in \u001b[0;36m<module>\u001b[1;34m\u001b[0m\n\u001b[1;32m----> 1\u001b[1;33m \u001b[0mfig\u001b[0m\u001b[1;33m,\u001b[0m \u001b[0max\u001b[0m \u001b[1;33m=\u001b[0m \u001b[0mplt\u001b[0m\u001b[1;33m.\u001b[0m\u001b[0msubplots\u001b[0m\u001b[1;33m(\u001b[0m\u001b[1;36m1\u001b[0m\u001b[1;33m,\u001b[0m\u001b[1;36m1\u001b[0m\u001b[1;33m)\u001b[0m\u001b[1;33m\u001b[0m\u001b[1;33m\u001b[0m\u001b[0m\n\u001b[0m\u001b[0;32m      2\u001b[0m \u001b[0msns\u001b[0m\u001b[1;33m.\u001b[0m\u001b[0mscatterplot\u001b[0m\u001b[1;33m(\u001b[0m\u001b[0mx\u001b[0m\u001b[1;33m=\u001b[0m\u001b[1;33m[\u001b[0m\u001b[1;36m0.00\u001b[0m\u001b[1;33m,\u001b[0m \u001b[1;36m0.06\u001b[0m\u001b[1;33m,\u001b[0m \u001b[1;36m0.09\u001b[0m\u001b[1;33m,\u001b[0m \u001b[1;36m0.12\u001b[0m\u001b[1;33m,\u001b[0m \u001b[1;36m0.24\u001b[0m\u001b[1;33m]\u001b[0m\u001b[1;33m,\u001b[0m \u001b[0my\u001b[0m\u001b[1;33m=\u001b[0m\u001b[1;33m[\u001b[0m\u001b[1;36m0.0009\u001b[0m\u001b[1;33m,\u001b[0m \u001b[1;36m0.0035\u001b[0m\u001b[1;33m,\u001b[0m \u001b[1;36m0.0076\u001b[0m\u001b[1;33m,\u001b[0m \u001b[1;36m0.055\u001b[0m\u001b[1;33m,\u001b[0m \u001b[1;36m1.216\u001b[0m\u001b[1;33m]\u001b[0m\u001b[1;33m,\u001b[0m \u001b[0max\u001b[0m\u001b[1;33m=\u001b[0m\u001b[0max\u001b[0m\u001b[1;33m)\u001b[0m\u001b[1;33m\u001b[0m\u001b[1;33m\u001b[0m\u001b[0m\n\u001b[0;32m      3\u001b[0m \u001b[0mplt\u001b[0m\u001b[1;33m.\u001b[0m\u001b[0mylim\u001b[0m\u001b[1;33m(\u001b[0m\u001b[1;33m(\u001b[0m\u001b[1;33m-\u001b[0m\u001b[1;36m0.2\u001b[0m\u001b[1;33m,\u001b[0m \u001b[1;36m1.4\u001b[0m\u001b[1;33m)\u001b[0m\u001b[1;33m)\u001b[0m\u001b[1;33m\u001b[0m\u001b[1;33m\u001b[0m\u001b[0m\n\u001b[0;32m      4\u001b[0m \u001b[0max\u001b[0m\u001b[1;33m.\u001b[0m\u001b[0mset_ylabel\u001b[0m\u001b[1;33m(\u001b[0m\u001b[1;34m'$k (h^{-1})$ '\u001b[0m\u001b[1;33m)\u001b[0m\u001b[1;33m\u001b[0m\u001b[1;33m\u001b[0m\u001b[0m\n\u001b[0;32m      5\u001b[0m \u001b[0max\u001b[0m\u001b[1;33m.\u001b[0m\u001b[0mset_xlabel\u001b[0m\u001b[1;33m(\u001b[0m\u001b[1;34m'aTc conc. (ng/mL)'\u001b[0m\u001b[1;33m)\u001b[0m\u001b[1;33m\u001b[0m\u001b[1;33m\u001b[0m\u001b[0m\n",
      "\u001b[1;31mNameError\u001b[0m: name 'plt' is not defined"
     ],
     "ename": "NameError",
     "evalue": "name 'plt' is not defined",
     "output_type": "error"
    }
   ],
   "source": [
    "fig, ax = plt.subplots(1,1)\n",
    "sns.scatterplot(x=[0.00, 0.06, 0.09, 0.12, 0.24], y=[0.0009, 0.0035, 0.0076, 0.055, 1.216], ax=ax)\n",
    "plt.ylim((0.0001, 1.4))\n",
    "ax.set_ylabel('$k (h^{-1})$ ')\n",
    "ax.set_xlabel('aTc conc. (ng/mL)')\n",
    "ax.set_yscale('log')\n",
    "plt.show()"
   ]
  }
 ],
 "metadata": {
  "kernelspec": {
   "display_name": "Python 3",
   "language": "python",
   "name": "python3"
  },
  "language_info": {
   "codemirror_mode": {
    "name": "ipython",
    "version": 3
   },
   "file_extension": ".py",
   "mimetype": "text/x-python",
   "name": "python",
   "nbconvert_exporter": "python",
   "pygments_lexer": "ipython3",
   "version": "3.7.3"
  },
  "pycharm": {
   "stem_cell": {
    "cell_type": "raw",
    "source": [],
    "metadata": {
     "collapsed": false
    }
   }
  }
 },
 "nbformat": 4,
 "nbformat_minor": 1
}